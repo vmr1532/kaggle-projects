{
  "nbformat": 4,
  "nbformat_minor": 0,
  "metadata": {
    "colab": {
      "name": "Untitled26.ipynb",
      "version": "0.3.2",
      "provenance": [],
      "include_colab_link": true
    },
    "kernelspec": {
      "name": "python3",
      "display_name": "Python 3"
    }
  },
  "cells": [
    {
      "cell_type": "markdown",
      "metadata": {
        "id": "view-in-github",
        "colab_type": "text"
      },
      "source": [
        "<a href=\"https://colab.research.google.com/github/vmr1532/kaggle-projects/blob/master/housepricepred.ipynb\" target=\"_parent\"><img src=\"https://colab.research.google.com/assets/colab-badge.svg\" alt=\"Open In Colab\"/></a>"
      ]
    },
    {
      "cell_type": "code",
      "metadata": {
        "id": "NiaqBqdiJTZr",
        "colab_type": "code",
        "outputId": "a0c1c44a-6fec-40a5-f8e2-1e55185b7717",
        "colab": {
          "base_uri": "https://localhost:8080/",
          "height": 34
        }
      },
      "source": [
        "\n",
        "from googleapiclient.discovery import build\n",
        "import io, os\n",
        "from googleapiclient.http import MediaIoBaseDownload\n",
        "from google.colab import auth\n",
        "auth.authenticate_user()\n",
        "drive_service = build('drive', 'v3')\n",
        "results = drive_service.files().list(\n",
        "        q=\"name = 'kaggle.json'\", fields=\"files(id)\").execute()\n",
        "kaggle_api_key = results.get('files', [])\n",
        "filename = \"/root/.kaggle/kaggle.json\"\n",
        "if not os.path.exists(os.path.dirname(filename)):\n",
        "  os.makedirs(os.path.dirname(filename))\n",
        "request = drive_service.files().get_media(fileId=kaggle_api_key[0]['id'])\n",
        "fh = io.FileIO(filename, 'wb')\n",
        "downloader = MediaIoBaseDownload(fh, request)\n",
        "done = False\n",
        "while done is False:\n",
        "    status, done = downloader.next_chunk()\n",
        "    print(\"Download %d%%.\" % int(status.progress() * 100))\n",
        "os.chmod(filename, 600)"
      ],
      "execution_count": 1,
      "outputs": [
        {
          "output_type": "stream",
          "text": [
            "Download 100%.\n"
          ],
          "name": "stdout"
        }
      ]
    },
    {
      "cell_type": "code",
      "metadata": {
        "id": "3va5bHKiJruI",
        "colab_type": "code",
        "outputId": "95bf80b0-9bd9-42f2-ef71-48154248b343",
        "colab": {
          "base_uri": "https://localhost:8080/",
          "height": 208
        }
      },
      "source": [
        "!pip install kaggle\n"
      ],
      "execution_count": 2,
      "outputs": [
        {
          "output_type": "stream",
          "text": [
            "Requirement already satisfied: kaggle in /usr/local/lib/python3.6/dist-packages (1.5.3)\n",
            "Requirement already satisfied: tqdm in /usr/local/lib/python3.6/dist-packages (from kaggle) (4.28.1)\n",
            "Requirement already satisfied: urllib3<1.25,>=1.21.1 in /usr/local/lib/python3.6/dist-packages (from kaggle) (1.24.3)\n",
            "Requirement already satisfied: requests in /usr/local/lib/python3.6/dist-packages (from kaggle) (2.21.0)\n",
            "Requirement already satisfied: python-slugify in /usr/local/lib/python3.6/dist-packages (from kaggle) (3.0.2)\n",
            "Requirement already satisfied: certifi in /usr/local/lib/python3.6/dist-packages (from kaggle) (2019.3.9)\n",
            "Requirement already satisfied: six>=1.10 in /usr/local/lib/python3.6/dist-packages (from kaggle) (1.12.0)\n",
            "Requirement already satisfied: python-dateutil in /usr/local/lib/python3.6/dist-packages (from kaggle) (2.5.3)\n",
            "Requirement already satisfied: chardet<3.1.0,>=3.0.2 in /usr/local/lib/python3.6/dist-packages (from requests->kaggle) (3.0.4)\n",
            "Requirement already satisfied: idna<2.9,>=2.5 in /usr/local/lib/python3.6/dist-packages (from requests->kaggle) (2.8)\n",
            "Requirement already satisfied: text-unidecode==1.2 in /usr/local/lib/python3.6/dist-packages (from python-slugify->kaggle) (1.2)\n"
          ],
          "name": "stdout"
        }
      ]
    },
    {
      "cell_type": "code",
      "metadata": {
        "id": "k8a1r8PoJv6Y",
        "colab_type": "code",
        "outputId": "6c9dd3f8-40fa-4bf1-e325-ec712fd4ae2c",
        "colab": {
          "resources": {
            "http://localhost:8080/nbextensions/google.colab/files.js": {
              "data": "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",
              "ok": true,
              "headers": [
                [
                  "content-type",
                  "application/javascript"
                ]
              ],
              "status": 200,
              "status_text": "OK"
            }
          },
          "base_uri": "https://localhost:8080/",
          "height": 152
        }
      },
      "source": [
        "from google.colab import files\n",
        "\n",
        "uploaded = files.upload()\n",
        "\n",
        "for fn in uploaded.keys():\n",
        "  print('User uploaded file \"{name}\" with length {length} bytes'.format(\n",
        "      name=fn, length=len(uploaded[fn])))"
      ],
      "execution_count": 4,
      "outputs": [
        {
          "output_type": "display_data",
          "data": {
            "text/html": [
              "\n",
              "     <input type=\"file\" id=\"files-4ea912d0-1762-4154-a306-3279b1406cfb\" name=\"files[]\" multiple disabled />\n",
              "     <output id=\"result-4ea912d0-1762-4154-a306-3279b1406cfb\">\n",
              "      Upload widget is only available when the cell has been executed in the\n",
              "      current browser session. Please rerun this cell to enable.\n",
              "      </output>\n",
              "      <script src=\"/nbextensions/google.colab/files.js\"></script> "
            ],
            "text/plain": [
              "<IPython.core.display.HTML object>"
            ]
          },
          "metadata": {
            "tags": []
          }
        },
        {
          "output_type": "stream",
          "text": [
            "Saving train(2).csv to train(2).csv\n",
            "Saving test(2).csv to test(2).csv\n",
            "User uploaded file \"train(2).csv\" with length 460676 bytes\n",
            "User uploaded file \"test(2).csv\" with length 451405 bytes\n"
          ],
          "name": "stdout"
        }
      ]
    },
    {
      "cell_type": "code",
      "metadata": {
        "id": "8ID4GbIOJzXs",
        "colab_type": "code",
        "outputId": "244a02df-2f59-4d92-eb89-2c69e69dd243",
        "colab": {
          "base_uri": "https://localhost:8080/",
          "height": 1111
        }
      },
      "source": [
        "import csv\n",
        "import numpy\n",
        "import pandas\n",
        "train=pandas.read_csv(\"train(2).csv\")\n",
        "test=pandas.read_csv(\"test(2).csv\")\n",
        "print(test.shape)\n",
        "import sys\n",
        "import pandas\n",
        "from pandas.plotting import scatter_matrix\n",
        "import matplotlib.pyplot as plt\n",
        "from sklearn import model_selection\n",
        "from sklearn.metrics import classification_report\n",
        "from sklearn.metrics import confusion_matrix\n",
        "from sklearn.metrics import accuracy_score\n",
        "from sklearn.linear_model import LogisticRegression\n",
        "from sklearn.tree import DecisionTreeClassifier\n",
        "from sklearn.neighbors import KNeighborsClassifier\n",
        "from sklearn.discriminant_analysis import LinearDiscriminantAnalysis\n",
        "from sklearn.naive_bayes import GaussianNB\n",
        "from sklearn.svm import SVC\n",
        "import sklearn\n",
        "train.dtypes"
      ],
      "execution_count": 5,
      "outputs": [
        {
          "output_type": "stream",
          "text": [
            "(1459, 80)\n"
          ],
          "name": "stdout"
        },
        {
          "output_type": "execute_result",
          "data": {
            "text/plain": [
              "Id                 int64\n",
              "MSSubClass         int64\n",
              "MSZoning          object\n",
              "LotFrontage      float64\n",
              "LotArea            int64\n",
              "Street            object\n",
              "Alley             object\n",
              "LotShape          object\n",
              "LandContour       object\n",
              "Utilities         object\n",
              "LotConfig         object\n",
              "LandSlope         object\n",
              "Neighborhood      object\n",
              "Condition1        object\n",
              "Condition2        object\n",
              "BldgType          object\n",
              "HouseStyle        object\n",
              "OverallQual        int64\n",
              "OverallCond        int64\n",
              "YearBuilt          int64\n",
              "YearRemodAdd       int64\n",
              "RoofStyle         object\n",
              "RoofMatl          object\n",
              "Exterior1st       object\n",
              "Exterior2nd       object\n",
              "MasVnrType        object\n",
              "MasVnrArea       float64\n",
              "ExterQual         object\n",
              "ExterCond         object\n",
              "Foundation        object\n",
              "                  ...   \n",
              "BedroomAbvGr       int64\n",
              "KitchenAbvGr       int64\n",
              "KitchenQual       object\n",
              "TotRmsAbvGrd       int64\n",
              "Functional        object\n",
              "Fireplaces         int64\n",
              "FireplaceQu       object\n",
              "GarageType        object\n",
              "GarageYrBlt      float64\n",
              "GarageFinish      object\n",
              "GarageCars         int64\n",
              "GarageArea         int64\n",
              "GarageQual        object\n",
              "GarageCond        object\n",
              "PavedDrive        object\n",
              "WoodDeckSF         int64\n",
              "OpenPorchSF        int64\n",
              "EnclosedPorch      int64\n",
              "3SsnPorch          int64\n",
              "ScreenPorch        int64\n",
              "PoolArea           int64\n",
              "PoolQC            object\n",
              "Fence             object\n",
              "MiscFeature       object\n",
              "MiscVal            int64\n",
              "MoSold             int64\n",
              "YrSold             int64\n",
              "SaleType          object\n",
              "SaleCondition     object\n",
              "SalePrice          int64\n",
              "Length: 81, dtype: object"
            ]
          },
          "metadata": {
            "tags": []
          },
          "execution_count": 5
        }
      ]
    },
    {
      "cell_type": "code",
      "metadata": {
        "id": "74n6tnC0J9Um",
        "colab_type": "code",
        "colab": {
          "base_uri": "https://localhost:8080/",
          "height": 34
        },
        "outputId": "031afcb5-755a-46c6-8cfd-0877ce2ec794"
      },
      "source": [
        "from sklearn.preprocessing import LabelEncoder\n",
        "from sklearn import preprocessing\n",
        "from sklearn.preprocessing import Imputer\n",
        "from sklearn import preprocessing\n",
        "import pandas as pd\n",
        "import numpy as np\n",
        "from sklearn import preprocessing\n",
        "from sklearn.preprocessing import Imputer\n",
        "from sklearn import preprocessing\n",
        "import pandas as pd\n",
        "import numpy as np\n",
        "train1 = train.replace(np.nan, 0)\n",
        "train1['MSSubClass'].fillna(train1['MSSubClass'].median(), inplace = True)\n",
        "train1['MiscVal'].fillna(train1['MiscVal'].median(), inplace = True)\n",
        "train1['LotFrontage'].fillna(train1['LotFrontage'].median(), inplace = True)\n",
        "train1['LotFrontage'].fillna(train1['LotFrontage'].median(), inplace = True)\n",
        "train1['GarageYrBlt'].fillna(train1['GarageYrBlt'].median(), inplace = True)\n",
        "\n",
        "train1 = train.replace(np.nan, 0)\n",
        "\n",
        "\n",
        "\n",
        "from keras.utils import np_utils\n",
        "from sklearn.preprocessing import LabelEncoder\n",
        "import numpy as np\n",
        "from numpy import argmax\n",
        "data1 = train1.copy(deep = True)\n",
        "label = LabelEncoder()  \n",
        "train1['LandContour_Code'] = label.fit_transform(train1['LandContour'])\n",
        "train1['PavedDrive_Code'] = label.fit_transform(train1['PavedDrive'])\n",
        "train1['CentralAir_Code'] = label.fit_transform(train1['CentralAir'])\n",
        "train1['Alley_Code'] = label.fit_transform(train1['Alley'].astype(str))\n",
        "train1['Alley_Code'].fillna(train1['Alley_Code'].median(), inplace = True)\n",
        "train1['Utilities_Code'] = label.fit_transform(train1['Utilities'].astype(str))\n",
        "train1['LotShape_Code'] = label.fit_transform(train1['LotShape'].astype(str))\n",
        "train1['GarageFinish_Code'] = label.fit_transform(train1['GarageFinish'].astype(str))\n",
        "train1['GarageType_Code'] = label.fit_transform(train1['GarageType'].astype(str))\n",
        "train1['GarageType_Code'] = label.fit_transform(train1['GarageType'].astype(str))\n",
        "train1['KitchenQual_Code'] = label.fit_transform(train1['KitchenQual'].astype(str))\n",
        "train1['Electrical_Code'] = label.fit_transform(train1['Electrical'].astype(str))\n",
        "train1['BsmtExposure_Code'] = label.fit_transform(train1['BsmtExposure'].astype(str))\n",
        "train1['BsmtQual_Code'] = label.fit_transform(train1['BsmtQual'].astype(str))\n",
        "train1['Foundation_Code'] = label.fit_transform(train1['Foundation'].astype(str))\n",
        "train1['MasVnrType_Code'] = label.fit_transform(train1['MasVnrType'].astype(str))\n",
        "train1['Exterior1st_Code'] = label.fit_transform(train1['Exterior1st'].astype(str))\n",
        "train1['Exterior2nd_Code'] = label.fit_transform(train1['Exterior2nd'].astype(str))\n",
        "train1['HouseStyle_Code'] = label.fit_transform(train1['HouseStyle'].astype(str))\n",
        "train1['LotConfig_Code'] = label.fit_transform(train1['LotConfig'].astype(str))\n",
        "\n",
        "\n"
      ],
      "execution_count": 6,
      "outputs": [
        {
          "output_type": "stream",
          "text": [
            "Using TensorFlow backend.\n"
          ],
          "name": "stderr"
        }
      ]
    },
    {
      "cell_type": "code",
      "metadata": {
        "id": "igvTsRcBKKOR",
        "colab_type": "code",
        "outputId": "b93105d6-c383-4c30-86cc-58b078afc7d5",
        "colab": {
          "base_uri": "https://localhost:8080/",
          "height": 972
        }
      },
      "source": [
        "\n",
        "\n",
        "\n",
        "k=train1.drop(columns=['LotFrontage','GarageYrBlt','SaleCondition','MiscFeature','MSZoning','BsmtQual','ExterCond','GarageQual','MSZoning','Fence','GarageCond','Neighborhood','MasVnrArea','BldgType','Street','PoolQC','FireplaceQu','Functional','HeatingQC','RoofMatl','Heating','BsmtFinType2','BsmtFinType1','BsmtCond','BsmtQual','Foundation','ExterQual','ExterCond','SaleType','LotConfig','MasVnrType','Exterior2nd','Exterior1st','RoofStyle','LandSlope','Condition1','Condition2','HouseStyle','CentralAir','PavedDrive','LandContour','SaleType','Alley','Utilities','LotShape','GarageFinish','GarageType','KitchenQual','Electrical','BsmtExposure','Foundation','MasVnrType'],axis=1)\n",
        "X = np.asarray(k.drop(['SalePrice'],axis=1))\n",
        "for column in k:\n",
        "    if k[column].isnull().any():\n",
        "       print('{0} has {1} null values'.format(column, k[column].isnull().sum()))\n",
        "print(k.shape)        \n",
        "    \n",
        "\n",
        "\n",
        "print (k.dtypes)\n",
        "p=k.applymap(lambda x: np.nan if np.isinf(x) else x)\n",
        "t=p.replace(np.nan, 0)\n",
        "yhat = numpy.asarray(t['SalePrice'])\n",
        "# Generate random indices for creating a random validation set with 25% of the labelled data\n",
        "validx = (numpy.random.uniform(size=len(X)) <= 0.25)\n",
        "\n",
        "# Create training set (75% of the labelled data)\n",
        "X_trn = X[~validx]\n",
        "y_trn = yhat[~validx]\n",
        "\n",
        "# Create validation set (25% of the labelled data)\n",
        "X_val = X[validx]\n",
        "y_val = yhat[validx]\n"
      ],
      "execution_count": 19,
      "outputs": [
        {
          "output_type": "stream",
          "text": [
            "(1460, 53)\n",
            "Id                   int64\n",
            "MSSubClass           int64\n",
            "LotArea              int64\n",
            "OverallQual          int64\n",
            "OverallCond          int64\n",
            "YearBuilt            int64\n",
            "YearRemodAdd         int64\n",
            "BsmtFinSF1           int64\n",
            "BsmtFinSF2           int64\n",
            "BsmtUnfSF            int64\n",
            "TotalBsmtSF          int64\n",
            "1stFlrSF             int64\n",
            "2ndFlrSF             int64\n",
            "LowQualFinSF         int64\n",
            "GrLivArea            int64\n",
            "BsmtFullBath         int64\n",
            "BsmtHalfBath         int64\n",
            "FullBath             int64\n",
            "HalfBath             int64\n",
            "BedroomAbvGr         int64\n",
            "KitchenAbvGr         int64\n",
            "TotRmsAbvGrd         int64\n",
            "Fireplaces           int64\n",
            "GarageCars           int64\n",
            "GarageArea           int64\n",
            "WoodDeckSF           int64\n",
            "OpenPorchSF          int64\n",
            "EnclosedPorch        int64\n",
            "3SsnPorch            int64\n",
            "ScreenPorch          int64\n",
            "PoolArea             int64\n",
            "MiscVal              int64\n",
            "MoSold               int64\n",
            "YrSold               int64\n",
            "SalePrice            int64\n",
            "LandContour_Code     int64\n",
            "PavedDrive_Code      int64\n",
            "CentralAir_Code      int64\n",
            "Alley_Code           int64\n",
            "Utilities_Code       int64\n",
            "LotShape_Code        int64\n",
            "GarageFinish_Code    int64\n",
            "GarageType_Code      int64\n",
            "KitchenQual_Code     int64\n",
            "Electrical_Code      int64\n",
            "BsmtExposure_Code    int64\n",
            "BsmtQual_Code        int64\n",
            "Foundation_Code      int64\n",
            "MasVnrType_Code      int64\n",
            "Exterior1st_Code     int64\n",
            "Exterior2nd_Code     int64\n",
            "HouseStyle_Code      int64\n",
            "LotConfig_Code       int64\n",
            "dtype: object\n"
          ],
          "name": "stdout"
        }
      ]
    },
    {
      "cell_type": "code",
      "metadata": {
        "id": "u8gsYASeKTaH",
        "colab_type": "code",
        "colab": {}
      },
      "source": [
        "import numpy as np\n",
        "from numpy import argmax\n",
        "data1 = train1.copy(deep = True)\n",
        "test2=test.replace([np.inf, -np.inf], np.nan)\n",
        "test1= test2.replace(np.nan, 0)\n",
        "\n",
        "\n",
        "import numpy as np\n",
        "from numpy import argmax\n",
        "label = LabelEncoder()  \n",
        "test1['LandContour_Code'] = label.fit_transform(test1['LandContour'])\n",
        "test1['PavedDrive_Code'] = label.fit_transform(test1['PavedDrive'])\n",
        "test1['CentralAir_Code'] = label.fit_transform(test1['CentralAir'])\n",
        "test1['Alley_Code'] = label.fit_transform(test1['Alley'].astype(str))\n",
        "test1['Alley_Code'].fillna(test1['Alley_Code'].median(), inplace = True)\n",
        "test1['Utilities_Code'] = label.fit_transform(test1['Utilities'].astype(str))\n",
        "test1['LotShape_Code'] = label.fit_transform(test1['LotShape'].astype(str))\n",
        "test1['GarageFinish_Code'] = label.fit_transform(test1['GarageFinish'].astype(str))\n",
        "test1['GarageType_Code'] = label.fit_transform(test1['GarageType'].astype(str))\n",
        "test1['GarageType_Code'] = label.fit_transform(test1['GarageType'].astype(str))\n",
        "test1['KitchenQual_Code'] = label.fit_transform(test1['KitchenQual'].astype(str))\n",
        "test1['Electrical_Code'] = label.fit_transform(test1['Electrical'].astype(str))\n",
        "test1['BsmtExposure_Code'] = label.fit_transform(test1['BsmtExposure'].astype(str))\n",
        "test1['BsmtQual_Code'] = label.fit_transform(test1['BsmtQual'].astype(str))\n",
        "test1['Foundation_Code'] = label.fit_transform(test1['Foundation'].astype(str))\n",
        "test1['MasVnrType_Code'] = label.fit_transform(test1['MasVnrType'].astype(str))\n",
        "test1['Exterior1st_Code'] = label.fit_transform(test1['Exterior1st'].astype(str))\n",
        "test1['Exterior2nd_Code'] = label.fit_transform(test1['Exterior2nd'].astype(str))\n",
        "test1['HouseStyle_Code'] = label.fit_transform(test1['HouseStyle'].astype(str))\n",
        "test1['LotConfig_Code'] = label.fit_transform(test1['LotConfig'].astype(str))\n",
        "v=test1.drop(columns=['LotFrontage','GarageYrBlt','SaleCondition','MiscFeature','MSZoning','MasVnrArea','BsmtQual','RoofMatl','GarageQual' ,'GarageCond','Fence','Neighborhood','BldgType','Street','ExterCond','PoolQC','FireplaceQu','Functional','HeatingQC','BsmtQual','Heating','BsmtQual','RoofMatl','BsmtFinType2','BsmtFinType1','BsmtCond','SaleType','Foundation','ExterQual','ExterCond','LotConfig','MasVnrType','Exterior2nd','Exterior1st','RoofStyle','LandSlope','Condition1','Condition2','HouseStyle','CentralAir','PavedDrive','LandContour','SaleType','Alley','Utilities','LotShape','GarageFinish','GarageType','KitchenQual','Electrical','BsmtExposure','Foundation','MasVnrType'],axis=1)"
      ],
      "execution_count": 0,
      "outputs": []
    },
    {
      "cell_type": "code",
      "metadata": {
        "id": "JnVC01OXK9VI",
        "colab_type": "code",
        "colab": {}
      },
      "source": [
        "e=v.applymap(lambda x: np.nan if np.isinf(x) else x)\n",
        "l=e.replace(np.nan, 0)\n",
        "X_tes = numpy.asarray(l)\n",
        "\n",
        "\n",
        "\n"
      ],
      "execution_count": 0,
      "outputs": []
    },
    {
      "cell_type": "code",
      "metadata": {
        "id": "BCLdOEUqaSI6",
        "colab_type": "code",
        "colab": {}
      },
      "source": [
        ""
      ],
      "execution_count": 0,
      "outputs": []
    },
    {
      "cell_type": "code",
      "metadata": {
        "id": "UnMZ2Zv0cRq7",
        "colab_type": "code",
        "outputId": "1022237b-afa7-45c6-ff75-6d42e23f5ad7",
        "colab": {
          "base_uri": "https://localhost:8080/",
          "height": 52
        }
      },
      "source": [
        "from sklearn.model_selection import cross_val_predict, GridSearchCV\n",
        "from sklearn.ensemble import RandomForestRegressor\n",
        "from sklearn.preprocessing import MinMaxScaler\n",
        "from sklearn.ensemble import RandomForestRegressor as RF\n",
        "m =  RF(n_estimators=100,n_jobs=-1,oob_score = True,max_depth=15,min_samples_split=5,max_features=0.4,)\n",
        "m.fit(X_trn,y_trn)\n",
        "print (m.score(X_val,y_val))\n",
        "print (m.oob_score_)\n",
        "res = m.predict(X_tes)"
      ],
      "execution_count": 23,
      "outputs": [
        {
          "output_type": "stream",
          "text": [
            "0.8848071792564013\n",
            "0.8549460676992815\n"
          ],
          "name": "stdout"
        }
      ]
    },
    {
      "cell_type": "code",
      "metadata": {
        "id": "vd1_16M5coTf",
        "colab_type": "code",
        "outputId": "60b521a7-a7bc-4f37-8260-940b2277843c",
        "colab": {
          "base_uri": "https://localhost:8080/",
          "height": 52
        }
      },
      "source": [
        "\n",
        "res\n",
        "\n",
        "\n",
        "  "
      ],
      "execution_count": 24,
      "outputs": [
        {
          "output_type": "execute_result",
          "data": {
            "text/plain": [
              "array([129589.20139166, 152838.28448773, 179017.72239437, ...,\n",
              "       158121.44637446, 114139.40876075, 239127.14960173])"
            ]
          },
          "metadata": {
            "tags": []
          },
          "execution_count": 24
        }
      ]
    },
    {
      "cell_type": "code",
      "metadata": {
        "id": "Mrdw8nLnmf4j",
        "colab_type": "code",
        "colab": {
          "base_uri": "https://localhost:8080/",
          "height": 1128
        },
        "outputId": "ed474d07-76c9-4323-d3a9-48b8ad194afe"
      },
      "source": [
        "sub = pd.DataFrame({\"Id\":test['Id'],\"SalePrice\":res})\n",
        "\n",
        "# Create the submission csv file from the dataframe\n",
        "sub.to_csv(\"sub.csv\",index=False)\n",
        "print(sub)"
      ],
      "execution_count": 27,
      "outputs": [
        {
          "output_type": "stream",
          "text": [
            "        Id      SalePrice\n",
            "0     1461  129589.201392\n",
            "1     1462  152838.284488\n",
            "2     1463  179017.722394\n",
            "3     1464  183199.381074\n",
            "4     1465  203117.256659\n",
            "5     1466  183541.635186\n",
            "6     1467  172558.561556\n",
            "7     1468  173829.718272\n",
            "8     1469  176388.263828\n",
            "9     1470  124236.986481\n",
            "10    1471  192502.385814\n",
            "11    1472   92742.584784\n",
            "12    1473   94185.594903\n",
            "13    1474  150294.548788\n",
            "14    1475  127859.073328\n",
            "15    1476  357627.363912\n",
            "16    1477  239619.295815\n",
            "17    1478  306602.821802\n",
            "18    1479  268730.815954\n",
            "19    1480  443444.823544\n",
            "20    1481  291308.506001\n",
            "21    1482  212373.187324\n",
            "22    1483  171796.065944\n",
            "23    1484  163166.624740\n",
            "24    1485  168559.425964\n",
            "25    1486  197114.315304\n",
            "26    1487  307479.837144\n",
            "27    1488  222762.416235\n",
            "28    1489  194879.439774\n",
            "29    1490  196014.279865\n",
            "...    ...            ...\n",
            "1429  2890   86260.241904\n",
            "1430  2891  135817.369595\n",
            "1431  2892   73039.118039\n",
            "1432  2893  111556.479524\n",
            "1433  2894   77237.154349\n",
            "1434  2895  302206.213008\n",
            "1435  2896  287942.622393\n",
            "1436  2897  207958.305102\n",
            "1437  2898  154688.081274\n",
            "1438  2899  230084.670483\n",
            "1439  2900  156025.656135\n",
            "1440  2901  180868.294810\n",
            "1441  2902  185284.732282\n",
            "1442  2903  327670.726746\n",
            "1443  2904  341409.545607\n",
            "1444  2905  126709.826270\n",
            "1445  2906  201771.703135\n",
            "1446  2907  116104.812050\n",
            "1447  2908  128247.196068\n",
            "1448  2909  147706.139240\n",
            "1449  2910   84765.999524\n",
            "1450  2911   86143.500256\n",
            "1451  2912  147711.451384\n",
            "1452  2913   92579.925230\n",
            "1453  2914   82616.460238\n",
            "1454  2915   87056.690000\n",
            "1455  2916   88235.630693\n",
            "1456  2917  158121.446374\n",
            "1457  2918  114139.408761\n",
            "1458  2919  239127.149602\n",
            "\n",
            "[1459 rows x 2 columns]\n"
          ],
          "name": "stdout"
        }
      ]
    },
    {
      "cell_type": "code",
      "metadata": {
        "id": "rXQzjebsm5ac",
        "colab_type": "code",
        "colab": {
          "base_uri": "https://localhost:8080/",
          "height": 52
        },
        "outputId": "6ddf7dbe-2397-48bd-994c-8cf8138972b1"
      },
      "source": [
        "!kaggle competitions submit -c house-prices-advanced-regression-techniques -f sub.csv -m \"submission_1\"\n"
      ],
      "execution_count": 28,
      "outputs": [
        {
          "output_type": "stream",
          "text": [
            "\r  0% 0.00/33.7k [00:00<?, ?B/s]\r100% 33.7k/33.7k [00:00<00:00, 130kB/s]\n",
            "Successfully submitted to House Prices: Advanced Regression Techniques"
          ],
          "name": "stdout"
        }
      ]
    },
    {
      "cell_type": "code",
      "metadata": {
        "id": "MeiATteJWN8q",
        "colab_type": "code",
        "colab": {}
      },
      "source": [
        ""
      ],
      "execution_count": 0,
      "outputs": []
    }
  ]
}