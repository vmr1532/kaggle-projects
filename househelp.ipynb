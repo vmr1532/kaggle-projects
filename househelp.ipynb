{
  "nbformat": 4,
  "nbformat_minor": 0,
  "metadata": {
    "colab": {
      "name": "Untitled26.ipynb",
      "version": "0.3.2",
      "provenance": [],
      "include_colab_link": true
    },
    "kernelspec": {
      "name": "python3",
      "display_name": "Python 3"
    }
  },
  "cells": [
    {
      "cell_type": "markdown",
      "metadata": {
        "id": "view-in-github",
        "colab_type": "text"
      },
      "source": [
        "<a href=\"https://colab.research.google.com/github/vmr1532/kaggle-projects/blob/master/househelp.ipynb\" target=\"_parent\"><img src=\"https://colab.research.google.com/assets/colab-badge.svg\" alt=\"Open In Colab\"/></a>"
      ]
    },
    {
      "cell_type": "code",
      "metadata": {
        "id": "NiaqBqdiJTZr",
        "colab_type": "code",
        "outputId": "4e90b036-946e-436d-d2fc-61f4dad858dd",
        "colab": {
          "base_uri": "https://localhost:8080/",
          "height": 34
        }
      },
      "source": [
        "\n",
        "from googleapiclient.discovery import build\n",
        "import io, os\n",
        "from googleapiclient.http import MediaIoBaseDownload\n",
        "from google.colab import auth\n",
        "auth.authenticate_user()\n",
        "drive_service = build('drive', 'v3')\n",
        "results = drive_service.files().list(\n",
        "        q=\"name = 'kaggle.json'\", fields=\"files(id)\").execute()\n",
        "kaggle_api_key = results.get('files', [])\n",
        "filename = \"/root/.kaggle/kaggle.json\"\n",
        "if not os.path.exists(os.path.dirname(filename)):\n",
        "  os.makedirs(os.path.dirname(filename))\n",
        "request = drive_service.files().get_media(fileId=kaggle_api_key[0]['id'])\n",
        "fh = io.FileIO(filename, 'wb')\n",
        "downloader = MediaIoBaseDownload(fh, request)\n",
        "done = False\n",
        "while done is False:\n",
        "    status, done = downloader.next_chunk()\n",
        "    print(\"Download %d%%.\" % int(status.progress() * 100))\n",
        "os.chmod(filename, 600)"
      ],
      "execution_count": 8,
      "outputs": [
        {
          "output_type": "stream",
          "text": [
            "Download 100%.\n"
          ],
          "name": "stdout"
        }
      ]
    },
    {
      "cell_type": "code",
      "metadata": {
        "id": "3va5bHKiJruI",
        "colab_type": "code",
        "outputId": "a0f4a325-5d17-44b8-d4ea-0f88aed522a9",
        "colab": {
          "base_uri": "https://localhost:8080/",
          "height": 208
        }
      },
      "source": [
        "!pip install kaggle\n"
      ],
      "execution_count": 9,
      "outputs": [
        {
          "output_type": "stream",
          "text": [
            "Requirement already satisfied: kaggle in /usr/local/lib/python3.6/dist-packages (1.5.3)\n",
            "Requirement already satisfied: tqdm in /usr/local/lib/python3.6/dist-packages (from kaggle) (4.28.1)\n",
            "Requirement already satisfied: python-dateutil in /usr/local/lib/python3.6/dist-packages (from kaggle) (2.5.3)\n",
            "Requirement already satisfied: six>=1.10 in /usr/local/lib/python3.6/dist-packages (from kaggle) (1.12.0)\n",
            "Requirement already satisfied: python-slugify in /usr/local/lib/python3.6/dist-packages (from kaggle) (3.0.2)\n",
            "Requirement already satisfied: certifi in /usr/local/lib/python3.6/dist-packages (from kaggle) (2019.3.9)\n",
            "Requirement already satisfied: requests in /usr/local/lib/python3.6/dist-packages (from kaggle) (2.21.0)\n",
            "Requirement already satisfied: urllib3<1.25,>=1.21.1 in /usr/local/lib/python3.6/dist-packages (from kaggle) (1.24.2)\n",
            "Requirement already satisfied: text-unidecode==1.2 in /usr/local/lib/python3.6/dist-packages (from python-slugify->kaggle) (1.2)\n",
            "Requirement already satisfied: idna<2.9,>=2.5 in /usr/local/lib/python3.6/dist-packages (from requests->kaggle) (2.8)\n",
            "Requirement already satisfied: chardet<3.1.0,>=3.0.2 in /usr/local/lib/python3.6/dist-packages (from requests->kaggle) (3.0.4)\n"
          ],
          "name": "stdout"
        }
      ]
    },
    {
      "cell_type": "code",
      "metadata": {
        "id": "k8a1r8PoJv6Y",
        "colab_type": "code",
        "outputId": "96c84fa5-8786-4e12-eb4f-9b710790dcec",
        "colab": {
          "resources": {
            "http://localhost:8080/nbextensions/google.colab/files.js": {
              "data": "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",
              "ok": true,
              "headers": [
                [
                  "content-type",
                  "application/javascript"
                ]
              ],
              "status": 200,
              "status_text": "OK"
            }
          },
          "base_uri": "https://localhost:8080/",
          "height": 152
        }
      },
      "source": [
        "from google.colab import files\n",
        "\n",
        "uploaded = files.upload()\n",
        "\n",
        "for fn in uploaded.keys():\n",
        "  print('User uploaded file \"{name}\" with length {length} bytes'.format(\n",
        "      name=fn, length=len(uploaded[fn])))"
      ],
      "execution_count": 10,
      "outputs": [
        {
          "output_type": "display_data",
          "data": {
            "text/html": [
              "\n",
              "     <input type=\"file\" id=\"files-ad8db8fc-a3fc-46f3-85ad-30fa0561ea6e\" name=\"files[]\" multiple disabled />\n",
              "     <output id=\"result-ad8db8fc-a3fc-46f3-85ad-30fa0561ea6e\">\n",
              "      Upload widget is only available when the cell has been executed in the\n",
              "      current browser session. Please rerun this cell to enable.\n",
              "      </output>\n",
              "      <script src=\"/nbextensions/google.colab/files.js\"></script> "
            ],
            "text/plain": [
              "<IPython.core.display.HTML object>"
            ]
          },
          "metadata": {
            "tags": []
          }
        },
        {
          "output_type": "stream",
          "text": [
            "Saving train(2).csv to train(2) (1).csv\n",
            "Saving test(2).csv to test(2) (1).csv\n",
            "User uploaded file \"train(2).csv\" with length 460676 bytes\n",
            "User uploaded file \"test(2).csv\" with length 451405 bytes\n"
          ],
          "name": "stdout"
        }
      ]
    },
    {
      "cell_type": "code",
      "metadata": {
        "id": "8ID4GbIOJzXs",
        "colab_type": "code",
        "outputId": "89e41dd7-6c55-4761-e8b5-4c48946eb7e5",
        "colab": {
          "base_uri": "https://localhost:8080/",
          "height": 3334
        }
      },
      "source": [
        "import csv\n",
        "import numpy\n",
        "import pandas\n",
        "train=pandas.read_csv(\"train(2).csv\")\n",
        "test=pandas.read_csv(\"test(2).csv\")\n",
        "print(test.shape)\n",
        "print(train)\n",
        "import sys\n",
        "import pandas\n",
        "from pandas.plotting import scatter_matrix\n",
        "import matplotlib.pyplot as plt\n",
        "from sklearn import model_selection\n",
        "from sklearn.metrics import classification_report\n",
        "from sklearn.metrics import confusion_matrix\n",
        "from sklearn.metrics import accuracy_score\n",
        "from sklearn.linear_model import LogisticRegression\n",
        "from sklearn.tree import DecisionTreeClassifier\n",
        "from sklearn.neighbors import KNeighborsClassifier\n",
        "from sklearn.discriminant_analysis import LinearDiscriminantAnalysis\n",
        "from sklearn.naive_bayes import GaussianNB\n",
        "from sklearn.svm import SVC\n",
        "import sklearn"
      ],
      "execution_count": 41,
      "outputs": [
        {
          "output_type": "stream",
          "text": [
            "(1459, 80)\n",
            "        Id  MSSubClass MSZoning  LotFrontage  LotArea Street Alley LotShape  \\\n",
            "0        1          60       RL         65.0     8450   Pave   NaN      Reg   \n",
            "1        2          20       RL         80.0     9600   Pave   NaN      Reg   \n",
            "2        3          60       RL         68.0    11250   Pave   NaN      IR1   \n",
            "3        4          70       RL         60.0     9550   Pave   NaN      IR1   \n",
            "4        5          60       RL         84.0    14260   Pave   NaN      IR1   \n",
            "5        6          50       RL         85.0    14115   Pave   NaN      IR1   \n",
            "6        7          20       RL         75.0    10084   Pave   NaN      Reg   \n",
            "7        8          60       RL          NaN    10382   Pave   NaN      IR1   \n",
            "8        9          50       RM         51.0     6120   Pave   NaN      Reg   \n",
            "9       10         190       RL         50.0     7420   Pave   NaN      Reg   \n",
            "10      11          20       RL         70.0    11200   Pave   NaN      Reg   \n",
            "11      12          60       RL         85.0    11924   Pave   NaN      IR1   \n",
            "12      13          20       RL          NaN    12968   Pave   NaN      IR2   \n",
            "13      14          20       RL         91.0    10652   Pave   NaN      IR1   \n",
            "14      15          20       RL          NaN    10920   Pave   NaN      IR1   \n",
            "15      16          45       RM         51.0     6120   Pave   NaN      Reg   \n",
            "16      17          20       RL          NaN    11241   Pave   NaN      IR1   \n",
            "17      18          90       RL         72.0    10791   Pave   NaN      Reg   \n",
            "18      19          20       RL         66.0    13695   Pave   NaN      Reg   \n",
            "19      20          20       RL         70.0     7560   Pave   NaN      Reg   \n",
            "20      21          60       RL        101.0    14215   Pave   NaN      IR1   \n",
            "21      22          45       RM         57.0     7449   Pave  Grvl      Reg   \n",
            "22      23          20       RL         75.0     9742   Pave   NaN      Reg   \n",
            "23      24         120       RM         44.0     4224   Pave   NaN      Reg   \n",
            "24      25          20       RL          NaN     8246   Pave   NaN      IR1   \n",
            "25      26          20       RL        110.0    14230   Pave   NaN      Reg   \n",
            "26      27          20       RL         60.0     7200   Pave   NaN      Reg   \n",
            "27      28          20       RL         98.0    11478   Pave   NaN      Reg   \n",
            "28      29          20       RL         47.0    16321   Pave   NaN      IR1   \n",
            "29      30          30       RM         60.0     6324   Pave   NaN      IR1   \n",
            "...    ...         ...      ...          ...      ...    ...   ...      ...   \n",
            "1430  1431          60       RL         60.0    21930   Pave   NaN      IR3   \n",
            "1431  1432         120       RL          NaN     4928   Pave   NaN      IR1   \n",
            "1432  1433          30       RL         60.0    10800   Pave  Grvl      Reg   \n",
            "1433  1434          60       RL         93.0    10261   Pave   NaN      IR1   \n",
            "1434  1435          20       RL         80.0    17400   Pave   NaN      Reg   \n",
            "1435  1436          20       RL         80.0     8400   Pave   NaN      Reg   \n",
            "1436  1437          20       RL         60.0     9000   Pave   NaN      Reg   \n",
            "1437  1438          20       RL         96.0    12444   Pave   NaN      Reg   \n",
            "1438  1439          20       RM         90.0     7407   Pave   NaN      Reg   \n",
            "1439  1440          60       RL         80.0    11584   Pave   NaN      Reg   \n",
            "1440  1441          70       RL         79.0    11526   Pave   NaN      IR1   \n",
            "1441  1442         120       RM          NaN     4426   Pave   NaN      Reg   \n",
            "1442  1443          60       FV         85.0    11003   Pave   NaN      Reg   \n",
            "1443  1444          30       RL          NaN     8854   Pave   NaN      Reg   \n",
            "1444  1445          20       RL         63.0     8500   Pave   NaN      Reg   \n",
            "1445  1446          85       RL         70.0     8400   Pave   NaN      Reg   \n",
            "1446  1447          20       RL          NaN    26142   Pave   NaN      IR1   \n",
            "1447  1448          60       RL         80.0    10000   Pave   NaN      Reg   \n",
            "1448  1449          50       RL         70.0    11767   Pave   NaN      Reg   \n",
            "1449  1450         180       RM         21.0     1533   Pave   NaN      Reg   \n",
            "1450  1451          90       RL         60.0     9000   Pave   NaN      Reg   \n",
            "1451  1452          20       RL         78.0     9262   Pave   NaN      Reg   \n",
            "1452  1453         180       RM         35.0     3675   Pave   NaN      Reg   \n",
            "1453  1454          20       RL         90.0    17217   Pave   NaN      Reg   \n",
            "1454  1455          20       FV         62.0     7500   Pave  Pave      Reg   \n",
            "1455  1456          60       RL         62.0     7917   Pave   NaN      Reg   \n",
            "1456  1457          20       RL         85.0    13175   Pave   NaN      Reg   \n",
            "1457  1458          70       RL         66.0     9042   Pave   NaN      Reg   \n",
            "1458  1459          20       RL         68.0     9717   Pave   NaN      Reg   \n",
            "1459  1460          20       RL         75.0     9937   Pave   NaN      Reg   \n",
            "\n",
            "     LandContour Utilities  ... PoolArea PoolQC  Fence MiscFeature MiscVal  \\\n",
            "0            Lvl    AllPub  ...        0    NaN    NaN         NaN       0   \n",
            "1            Lvl    AllPub  ...        0    NaN    NaN         NaN       0   \n",
            "2            Lvl    AllPub  ...        0    NaN    NaN         NaN       0   \n",
            "3            Lvl    AllPub  ...        0    NaN    NaN         NaN       0   \n",
            "4            Lvl    AllPub  ...        0    NaN    NaN         NaN       0   \n",
            "5            Lvl    AllPub  ...        0    NaN  MnPrv        Shed     700   \n",
            "6            Lvl    AllPub  ...        0    NaN    NaN         NaN       0   \n",
            "7            Lvl    AllPub  ...        0    NaN    NaN        Shed     350   \n",
            "8            Lvl    AllPub  ...        0    NaN    NaN         NaN       0   \n",
            "9            Lvl    AllPub  ...        0    NaN    NaN         NaN       0   \n",
            "10           Lvl    AllPub  ...        0    NaN    NaN         NaN       0   \n",
            "11           Lvl    AllPub  ...        0    NaN    NaN         NaN       0   \n",
            "12           Lvl    AllPub  ...        0    NaN    NaN         NaN       0   \n",
            "13           Lvl    AllPub  ...        0    NaN    NaN         NaN       0   \n",
            "14           Lvl    AllPub  ...        0    NaN   GdWo         NaN       0   \n",
            "15           Lvl    AllPub  ...        0    NaN  GdPrv         NaN       0   \n",
            "16           Lvl    AllPub  ...        0    NaN    NaN        Shed     700   \n",
            "17           Lvl    AllPub  ...        0    NaN    NaN        Shed     500   \n",
            "18           Lvl    AllPub  ...        0    NaN    NaN         NaN       0   \n",
            "19           Lvl    AllPub  ...        0    NaN  MnPrv         NaN       0   \n",
            "20           Lvl    AllPub  ...        0    NaN    NaN         NaN       0   \n",
            "21           Bnk    AllPub  ...        0    NaN  GdPrv         NaN       0   \n",
            "22           Lvl    AllPub  ...        0    NaN    NaN         NaN       0   \n",
            "23           Lvl    AllPub  ...        0    NaN    NaN         NaN       0   \n",
            "24           Lvl    AllPub  ...        0    NaN  MnPrv         NaN       0   \n",
            "25           Lvl    AllPub  ...        0    NaN    NaN         NaN       0   \n",
            "26           Lvl    AllPub  ...        0    NaN    NaN         NaN       0   \n",
            "27           Lvl    AllPub  ...        0    NaN    NaN         NaN       0   \n",
            "28           Lvl    AllPub  ...        0    NaN    NaN         NaN       0   \n",
            "29           Lvl    AllPub  ...        0    NaN    NaN         NaN       0   \n",
            "...          ...       ...  ...      ...    ...    ...         ...     ...   \n",
            "1430         Lvl    AllPub  ...        0    NaN    NaN         NaN       0   \n",
            "1431         Lvl    AllPub  ...        0    NaN    NaN         NaN       0   \n",
            "1432         Lvl    AllPub  ...        0    NaN    NaN         NaN       0   \n",
            "1433         Lvl    AllPub  ...        0    NaN    NaN         NaN       0   \n",
            "1434         Low    AllPub  ...        0    NaN    NaN         NaN       0   \n",
            "1435         Lvl    AllPub  ...        0    NaN  GdPrv         NaN       0   \n",
            "1436         Lvl    AllPub  ...        0    NaN   GdWo         NaN       0   \n",
            "1437         Lvl    AllPub  ...        0    NaN    NaN         NaN       0   \n",
            "1438         Lvl    AllPub  ...        0    NaN  MnPrv         NaN       0   \n",
            "1439         Lvl    AllPub  ...        0    NaN    NaN         NaN       0   \n",
            "1440         Bnk    AllPub  ...        0    NaN    NaN         NaN       0   \n",
            "1441         Lvl    AllPub  ...        0    NaN    NaN         NaN       0   \n",
            "1442         Lvl    AllPub  ...        0    NaN    NaN         NaN       0   \n",
            "1443         Lvl    AllPub  ...        0    NaN    NaN         NaN       0   \n",
            "1444         Lvl    AllPub  ...        0    NaN    NaN         NaN       0   \n",
            "1445         Lvl    AllPub  ...        0    NaN    NaN         NaN       0   \n",
            "1446         Lvl    AllPub  ...        0    NaN    NaN         NaN       0   \n",
            "1447         Lvl    AllPub  ...        0    NaN    NaN         NaN       0   \n",
            "1448         Lvl    AllPub  ...        0    NaN   GdWo         NaN       0   \n",
            "1449         Lvl    AllPub  ...        0    NaN    NaN         NaN       0   \n",
            "1450         Lvl    AllPub  ...        0    NaN    NaN         NaN       0   \n",
            "1451         Lvl    AllPub  ...        0    NaN    NaN         NaN       0   \n",
            "1452         Lvl    AllPub  ...        0    NaN    NaN         NaN       0   \n",
            "1453         Lvl    AllPub  ...        0    NaN    NaN         NaN       0   \n",
            "1454         Lvl    AllPub  ...        0    NaN    NaN         NaN       0   \n",
            "1455         Lvl    AllPub  ...        0    NaN    NaN         NaN       0   \n",
            "1456         Lvl    AllPub  ...        0    NaN  MnPrv         NaN       0   \n",
            "1457         Lvl    AllPub  ...        0    NaN  GdPrv        Shed    2500   \n",
            "1458         Lvl    AllPub  ...        0    NaN    NaN         NaN       0   \n",
            "1459         Lvl    AllPub  ...        0    NaN    NaN         NaN       0   \n",
            "\n",
            "     MoSold YrSold  SaleType  SaleCondition  SalePrice  \n",
            "0         2   2008        WD         Normal     208500  \n",
            "1         5   2007        WD         Normal     181500  \n",
            "2         9   2008        WD         Normal     223500  \n",
            "3         2   2006        WD        Abnorml     140000  \n",
            "4        12   2008        WD         Normal     250000  \n",
            "5        10   2009        WD         Normal     143000  \n",
            "6         8   2007        WD         Normal     307000  \n",
            "7        11   2009        WD         Normal     200000  \n",
            "8         4   2008        WD        Abnorml     129900  \n",
            "9         1   2008        WD         Normal     118000  \n",
            "10        2   2008        WD         Normal     129500  \n",
            "11        7   2006       New        Partial     345000  \n",
            "12        9   2008        WD         Normal     144000  \n",
            "13        8   2007       New        Partial     279500  \n",
            "14        5   2008        WD         Normal     157000  \n",
            "15        7   2007        WD         Normal     132000  \n",
            "16        3   2010        WD         Normal     149000  \n",
            "17       10   2006        WD         Normal      90000  \n",
            "18        6   2008        WD         Normal     159000  \n",
            "19        5   2009       COD        Abnorml     139000  \n",
            "20       11   2006       New        Partial     325300  \n",
            "21        6   2007        WD         Normal     139400  \n",
            "22        9   2008        WD         Normal     230000  \n",
            "23        6   2007        WD         Normal     129900  \n",
            "24        5   2010        WD         Normal     154000  \n",
            "25        7   2009        WD         Normal     256300  \n",
            "26        5   2010        WD         Normal     134800  \n",
            "27        5   2010        WD         Normal     306000  \n",
            "28       12   2006        WD         Normal     207500  \n",
            "29        5   2008        WD         Normal      68500  \n",
            "...     ...    ...       ...            ...        ...  \n",
            "1430      7   2006        WD         Normal     192140  \n",
            "1431     10   2009        WD         Normal     143750  \n",
            "1432      8   2007        WD         Normal      64500  \n",
            "1433      5   2008        WD         Normal     186500  \n",
            "1434      5   2006        WD         Normal     160000  \n",
            "1435      7   2008       COD        Abnorml     174000  \n",
            "1436      5   2007        WD         Normal     120500  \n",
            "1437     11   2008       New        Partial     394617  \n",
            "1438      4   2010        WD         Normal     149700  \n",
            "1439     11   2007        WD         Normal     197000  \n",
            "1440      9   2008        WD         Normal     191000  \n",
            "1441      5   2008        WD         Normal     149300  \n",
            "1442      4   2009        WD         Normal     310000  \n",
            "1443      5   2009        WD         Normal     121000  \n",
            "1444     11   2007        WD         Normal     179600  \n",
            "1445      5   2007        WD         Normal     129000  \n",
            "1446      4   2010        WD         Normal     157900  \n",
            "1447     12   2007        WD         Normal     240000  \n",
            "1448      5   2007        WD         Normal     112000  \n",
            "1449      8   2006        WD        Abnorml      92000  \n",
            "1450      9   2009        WD         Normal     136000  \n",
            "1451      5   2009       New        Partial     287090  \n",
            "1452      5   2006        WD         Normal     145000  \n",
            "1453      7   2006        WD        Abnorml      84500  \n",
            "1454     10   2009        WD         Normal     185000  \n",
            "1455      8   2007        WD         Normal     175000  \n",
            "1456      2   2010        WD         Normal     210000  \n",
            "1457      5   2010        WD         Normal     266500  \n",
            "1458      4   2010        WD         Normal     142125  \n",
            "1459      6   2008        WD         Normal     147500  \n",
            "\n",
            "[1460 rows x 81 columns]\n"
          ],
          "name": "stdout"
        }
      ]
    },
    {
      "cell_type": "code",
      "metadata": {
        "id": "74n6tnC0J9Um",
        "colab_type": "code",
        "colab": {}
      },
      "source": [
        "\n",
        "from sklearn.preprocessing import LabelEncoder\n",
        "from sklearn import preprocessing\n",
        "from sklearn.preprocessing import Imputer\n",
        "from sklearn import preprocessing\n",
        "import pandas as pd\n",
        "import numpy as np\n",
        "train1 = train.replace(np.nan, 0)\n",
        "train1['MSSubClass'].fillna(train1['MSSubClass'].median(), inplace = True)\n",
        "train1['MiscVal'].fillna(train1['MiscVal'].median(), inplace = True)\n",
        "train1['LotFrontage'].fillna(train1['LotFrontage'].median(), inplace = True)\n",
        "train1['LotFrontage'].fillna(train1['LotFrontage'].median(), inplace = True)\n",
        "train1['GarageYrBlt'].fillna(train1['GarageYrBlt'].median(), inplace = True)\n",
        "\n",
        "train1 = train.replace(np.nan, 0)\n",
        "\n",
        "\n",
        "\n",
        "from keras.utils import np_utils\n",
        "from sklearn.preprocessing import LabelEncoder\n",
        "import numpy as np\n",
        "from numpy import argmax\n",
        "data1 = train1.copy(deep = True)\n",
        "label = LabelEncoder()  \n",
        "train1['LandContour_Code'] = label.fit_transform(train1['LandContour'])\n",
        "train1['PavedDrive_Code'] = label.fit_transform(train1['PavedDrive'])\n",
        "train1['CentralAir_Code'] = label.fit_transform(train1['CentralAir'])\n",
        "train1['Alley_Code'] = label.fit_transform(train1['Alley'].astype(str))\n",
        "train1['Alley_Code'].fillna(train1['Alley_Code'].median(), inplace = True)\n",
        "train1['Utilities_Code'] = label.fit_transform(train1['Utilities'].astype(str))\n",
        "train1['LotShape_Code'] = label.fit_transform(train1['LotShape'].astype(str))\n",
        "train1['GarageFinish_Code'] = label.fit_transform(train1['GarageFinish'].astype(str))\n",
        "train1['GarageType_Code'] = label.fit_transform(train1['GarageType'].astype(str))\n",
        "train1['GarageType_Code'] = label.fit_transform(train1['GarageType'].astype(str))\n",
        "train1['KitchenQual_Code'] = label.fit_transform(train1['KitchenQual'].astype(str))\n",
        "train1['Electrical_Code'] = label.fit_transform(train1['Electrical'].astype(str))\n",
        "train1['BsmtExposure_Code'] = label.fit_transform(train1['BsmtExposure'].astype(str))\n",
        "train1['BsmtQual_Code'] = label.fit_transform(train1['BsmtQual'].astype(str))\n",
        "train1['Foundation_Code'] = label.fit_transform(train1['Foundation'].astype(str))\n",
        "train1['MasVnrType_Code'] = label.fit_transform(train1['MasVnrType'].astype(str))\n",
        "train1['Exterior1st_Code'] = label.fit_transform(train1['Exterior1st'].astype(str))\n",
        "train1['Exterior2nd_Code'] = label.fit_transform(train1['Exterior2nd'].astype(str))\n",
        "train1['HouseStyle_Code'] = label.fit_transform(train1['HouseStyle'].astype(str))\n",
        "train1['LotConfig_Code'] = label.fit_transform(train1['LotConfig'].astype(str))\n",
        "\n",
        "\n",
        "\n"
      ],
      "execution_count": 0,
      "outputs": []
    },
    {
      "cell_type": "code",
      "metadata": {
        "id": "igvTsRcBKKOR",
        "colab_type": "code",
        "colab": {
          "base_uri": "https://localhost:8080/",
          "height": 34
        },
        "outputId": "56a12568-8a55-42e6-8e0b-30e1d39c69be"
      },
      "source": [
        "\n",
        "k=train1.drop(columns=['MSZoning','BsmtQual','ExterCond','GarageQual','MSZoning','Fence','GarageCond','Neighborhood','MasVnrArea','BldgType','Street','PoolQC','FireplaceQu','Functional','HeatingQC','RoofMatl','Heating','BsmtFinType2','BsmtFinType1','BsmtCond','BsmtQual','Foundation','ExterQual','ExterCond','SaleType','LotConfig','MasVnrType','Exterior2nd','Exterior1st','RoofStyle','LandSlope','Condition1','Condition2','HouseStyle','CentralAir','PavedDrive','LandContour','SaleType','Alley','Utilities','LotShape','GarageFinish','GarageType','KitchenQual','Electrical','BsmtExposure','Foundation','MasVnrType'],axis=1)\n",
        "for column in k:\n",
        "    if k[column].isnull().any():\n",
        "       print('{0} has {1} null values'.format(column, k[column].isnull().sum()))\n",
        "print(k.shape)        \n",
        "    \n",
        "X = np.asarray(k.drop(['SalePrice'],axis=1))\n",
        "\n",
        "yhat = numpy.asarray(k['SalePrice'])\n",
        "# Generate random indices for creating a random validation set with 25% of the labelled data\n",
        "validx = (numpy.random.uniform(size=len(X)) <= 0.25)\n",
        "\n",
        "# Create training set (75% of the labelled data)\n",
        "X_trn = X[~validx]\n",
        "y_trn = yhat[~validx]\n",
        "\n",
        "# Create validation set (25% of the labelled data)\n",
        "X_val = X[validx]\n",
        "y_val = yhat[validx]\n"
      ],
      "execution_count": 38,
      "outputs": [
        {
          "output_type": "stream",
          "text": [
            "(1460, 57)\n"
          ],
          "name": "stdout"
        }
      ]
    },
    {
      "cell_type": "code",
      "metadata": {
        "id": "u8gsYASeKTaH",
        "colab_type": "code",
        "colab": {}
      },
      "source": [
        "import numpy as np\n",
        "from numpy import argmax\n",
        "data1 = train1.copy(deep = True)\n",
        "test1= test.replace(np.nan, 0)\n",
        "label = LabelEncoder()  \n",
        "test1['LandContour_Code'] = label.fit_transform(test1['LandContour'])\n",
        "test1['PavedDrive_Code'] = label.fit_transform(test1['PavedDrive'])\n",
        "test1['CentralAir_Code'] = label.fit_transform(test1['CentralAir'])\n",
        "test1['Alley_Code'] = label.fit_transform(test1['Alley'].astype(str))\n",
        "test1['Alley_Code'].fillna(test1['Alley_Code'].median(), inplace = True)\n",
        "test1['Utilities_Code'] = label.fit_transform(test1['Utilities'].astype(str))\n",
        "test1['LotShape_Code'] = label.fit_transform(test1['LotShape'].astype(str))\n",
        "test1['GarageFinish_Code'] = label.fit_transform(test1['GarageFinish'].astype(str))\n",
        "test1['GarageType_Code'] = label.fit_transform(test1['GarageType'].astype(str))\n",
        "test1['GarageType_Code'] = label.fit_transform(test1['GarageType'].astype(str))\n",
        "test1['KitchenQual_Code'] = label.fit_transform(test1['KitchenQual'].astype(str))\n",
        "test1['Electrical_Code'] = label.fit_transform(test1['Electrical'].astype(str))\n",
        "test1['BsmtExposure_Code'] = label.fit_transform(test1['BsmtExposure'].astype(str))\n",
        "test1['BsmtQual_Code'] = label.fit_transform(test1['BsmtQual'].astype(str))\n",
        "test1['Foundation_Code'] = label.fit_transform(test1['Foundation'].astype(str))\n",
        "test1['MasVnrType_Code'] = label.fit_transform(test1['MasVnrType'].astype(str))\n",
        "test1['Exterior1st_Code'] = label.fit_transform(test1['Exterior1st'].astype(str))\n",
        "test1['Exterior2nd_Code'] = label.fit_transform(test1['Exterior2nd'].astype(str))\n",
        "test1['HouseStyle_Code'] = label.fit_transform(test1['HouseStyle'].astype(str))\n",
        "test1['LotConfig_Code'] = label.fit_transform(test1['LotConfig'].astype(str))\n",
        "v=test1.drop(columns=['MSZoning','MasVnrArea','BsmtQual','RoofMatl','GarageQual' ,'GarageCond','Fence','Neighborhood','BldgType','Street','ExterCond','PoolQC','FireplaceQu','Functional','HeatingQC','BsmtQual','Heating','BsmtQual','RoofMatl','BsmtFinType2','BsmtFinType1','BsmtCond','SaleType','Foundation','ExterQual','ExterCond','LotConfig','MasVnrType','Exterior2nd','Exterior1st','RoofStyle','LandSlope','Condition1','Condition2','HouseStyle','CentralAir','PavedDrive','LandContour','SaleType','Alley','Utilities','LotShape','GarageFinish','GarageType','KitchenQual','Electrical','BsmtExposure','Foundation','MasVnrType'],axis=1)\n",
        "\n",
        "\n",
        "X_tes = numpy.asarray(v)"
      ],
      "execution_count": 0,
      "outputs": []
    },
    {
      "cell_type": "code",
      "metadata": {
        "id": "JnVC01OXK9VI",
        "colab_type": "code",
        "outputId": "15c92532-c4fb-44c9-8312-2f59cded8ed1",
        "colab": {
          "base_uri": "https://localhost:8080/",
          "height": 324
        }
      },
      "source": [
        "import keras\n",
        "from keras.models import Sequential\n",
        "from keras.layers import Dense,Flatten\n",
        "import keras,numpy\n",
        "model=Sequential()\n",
        "model.add(Flatten())\n",
        "model.add(Dense(30000,input_shape=(1460,),activation='relu'))\n",
        "model.add(Dense(1000, activation='relu'))\n",
        "model.add(Dense(60, activation='relu'))\n",
        "model.add(Dense(10, activation='softmax'))\n",
        "\n",
        "model.compile(loss='categorical_crossentropy', optimizer='adam', metrics=['accuracy'])\n",
        "model.fit(X_trn,keras.utils.to_categorical(y_trn, num_classes=74, dtype='float'), epochs=400, batch_size=150)"
      ],
      "execution_count": 55,
      "outputs": [
        {
          "output_type": "error",
          "ename": "IndexError",
          "evalue": "ignored",
          "traceback": [
            "\u001b[0;31m---------------------------------------------------------------------------\u001b[0m",
            "\u001b[0;31mIndexError\u001b[0m                                Traceback (most recent call last)",
            "\u001b[0;32m<ipython-input-55-7f0a44aa725b>\u001b[0m in \u001b[0;36m<module>\u001b[0;34m()\u001b[0m\n\u001b[1;32m     11\u001b[0m \u001b[0;34m\u001b[0m\u001b[0m\n\u001b[1;32m     12\u001b[0m \u001b[0mmodel\u001b[0m\u001b[0;34m.\u001b[0m\u001b[0mcompile\u001b[0m\u001b[0;34m(\u001b[0m\u001b[0mloss\u001b[0m\u001b[0;34m=\u001b[0m\u001b[0;34m'categorical_crossentropy'\u001b[0m\u001b[0;34m,\u001b[0m \u001b[0moptimizer\u001b[0m\u001b[0;34m=\u001b[0m\u001b[0;34m'adam'\u001b[0m\u001b[0;34m,\u001b[0m \u001b[0mmetrics\u001b[0m\u001b[0;34m=\u001b[0m\u001b[0;34m[\u001b[0m\u001b[0;34m'accuracy'\u001b[0m\u001b[0;34m]\u001b[0m\u001b[0;34m)\u001b[0m\u001b[0;34m\u001b[0m\u001b[0;34m\u001b[0m\u001b[0m\n\u001b[0;32m---> 13\u001b[0;31m \u001b[0mmodel\u001b[0m\u001b[0;34m.\u001b[0m\u001b[0mfit\u001b[0m\u001b[0;34m(\u001b[0m\u001b[0mX_trn\u001b[0m\u001b[0;34m,\u001b[0m\u001b[0mkeras\u001b[0m\u001b[0;34m.\u001b[0m\u001b[0mutils\u001b[0m\u001b[0;34m.\u001b[0m\u001b[0mto_categorical\u001b[0m\u001b[0;34m(\u001b[0m\u001b[0my_trn\u001b[0m\u001b[0;34m,\u001b[0m \u001b[0mnum_classes\u001b[0m\u001b[0;34m=\u001b[0m\u001b[0;36m74\u001b[0m\u001b[0;34m,\u001b[0m \u001b[0mdtype\u001b[0m\u001b[0;34m=\u001b[0m\u001b[0;34m'float'\u001b[0m\u001b[0;34m)\u001b[0m\u001b[0;34m,\u001b[0m \u001b[0mepochs\u001b[0m\u001b[0;34m=\u001b[0m\u001b[0;36m400\u001b[0m\u001b[0;34m,\u001b[0m \u001b[0mbatch_size\u001b[0m\u001b[0;34m=\u001b[0m\u001b[0;36m150\u001b[0m\u001b[0;34m)\u001b[0m\u001b[0;34m\u001b[0m\u001b[0;34m\u001b[0m\u001b[0m\n\u001b[0m",
            "\u001b[0;32m/usr/local/lib/python3.6/dist-packages/keras/utils/np_utils.py\u001b[0m in \u001b[0;36mto_categorical\u001b[0;34m(y, num_classes, dtype)\u001b[0m\n\u001b[1;32m     32\u001b[0m     \u001b[0mn\u001b[0m \u001b[0;34m=\u001b[0m \u001b[0my\u001b[0m\u001b[0;34m.\u001b[0m\u001b[0mshape\u001b[0m\u001b[0;34m[\u001b[0m\u001b[0;36m0\u001b[0m\u001b[0;34m]\u001b[0m\u001b[0;34m\u001b[0m\u001b[0;34m\u001b[0m\u001b[0m\n\u001b[1;32m     33\u001b[0m     \u001b[0mcategorical\u001b[0m \u001b[0;34m=\u001b[0m \u001b[0mnp\u001b[0m\u001b[0;34m.\u001b[0m\u001b[0mzeros\u001b[0m\u001b[0;34m(\u001b[0m\u001b[0;34m(\u001b[0m\u001b[0mn\u001b[0m\u001b[0;34m,\u001b[0m \u001b[0mnum_classes\u001b[0m\u001b[0;34m)\u001b[0m\u001b[0;34m,\u001b[0m \u001b[0mdtype\u001b[0m\u001b[0;34m=\u001b[0m\u001b[0mdtype\u001b[0m\u001b[0;34m)\u001b[0m\u001b[0;34m\u001b[0m\u001b[0;34m\u001b[0m\u001b[0m\n\u001b[0;32m---> 34\u001b[0;31m     \u001b[0mcategorical\u001b[0m\u001b[0;34m[\u001b[0m\u001b[0mnp\u001b[0m\u001b[0;34m.\u001b[0m\u001b[0marange\u001b[0m\u001b[0;34m(\u001b[0m\u001b[0mn\u001b[0m\u001b[0;34m)\u001b[0m\u001b[0;34m,\u001b[0m \u001b[0my\u001b[0m\u001b[0;34m]\u001b[0m \u001b[0;34m=\u001b[0m \u001b[0;36m1\u001b[0m\u001b[0;34m\u001b[0m\u001b[0;34m\u001b[0m\u001b[0m\n\u001b[0m\u001b[1;32m     35\u001b[0m     \u001b[0moutput_shape\u001b[0m \u001b[0;34m=\u001b[0m \u001b[0minput_shape\u001b[0m \u001b[0;34m+\u001b[0m \u001b[0;34m(\u001b[0m\u001b[0mnum_classes\u001b[0m\u001b[0;34m,\u001b[0m\u001b[0;34m)\u001b[0m\u001b[0;34m\u001b[0m\u001b[0;34m\u001b[0m\u001b[0m\n\u001b[1;32m     36\u001b[0m     \u001b[0mcategorical\u001b[0m \u001b[0;34m=\u001b[0m \u001b[0mnp\u001b[0m\u001b[0;34m.\u001b[0m\u001b[0mreshape\u001b[0m\u001b[0;34m(\u001b[0m\u001b[0mcategorical\u001b[0m\u001b[0;34m,\u001b[0m \u001b[0moutput_shape\u001b[0m\u001b[0;34m)\u001b[0m\u001b[0;34m\u001b[0m\u001b[0;34m\u001b[0m\u001b[0m\n",
            "\u001b[0;31mIndexError\u001b[0m: index 208500 is out of bounds for axis 1 with size 74"
          ]
        }
      ]
    },
    {
      "cell_type": "code",
      "metadata": {
        "id": "Cbz6mzqjLPtI",
        "colab_type": "code",
        "colab": {}
      },
      "source": [
        ""
      ],
      "execution_count": 0,
      "outputs": []
    }
  ]
}